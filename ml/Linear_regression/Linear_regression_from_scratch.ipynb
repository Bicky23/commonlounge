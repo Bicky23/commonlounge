{
 "cells": [
  {
   "cell_type": "code",
   "execution_count": 1,
   "metadata": {},
   "outputs": [],
   "source": [
    "import numpy as np\n",
    "from sklearn import datasets, linear_model, metrics\n",
    " \n",
    "###############################################################################\n",
    "## Load the diabetes dataset\n",
    " \n",
    "diabetes = datasets.load_diabetes()\n",
    "diabetes_X = diabetes.data # matrix of dimensions 442x10\n",
    " \n",
    "# Split the data into training/testing sets\n",
    "diabetes_X_train = diabetes_X[:-20]\n",
    "diabetes_X_test = diabetes_X[-20:]\n",
    " \n",
    "# Split the targets into training/testing sets\n",
    "diabetes_y_train = diabetes.target[:-20]\n",
    "diabetes_y_test = diabetes.target[-20:]"
   ]
  },
  {
   "cell_type": "code",
   "execution_count": 2,
   "metadata": {},
   "outputs": [
    {
     "name": "stdout",
     "output_type": "stream",
     "text": [
      "Coefficients: \n",
      " [ 3.03499549e-01 -2.37639315e+02  5.10530605e+02  3.27736980e+02\n",
      " -8.14131709e+02  4.92814588e+02  1.02848452e+02  1.84606489e+02\n",
      "  7.43519617e+02  7.60951722e+01]\n",
      "Mean squared error: 2004.57\n",
      "====================================================================================================\n"
     ]
    }
   ],
   "source": [
    "###############################################################################\n",
    "## Scikit learn\n",
    " \n",
    "# Create linear regression object\n",
    "regr = linear_model.LinearRegression()\n",
    " \n",
    "# Train the model using the training sets\n",
    "regr.fit(diabetes_X_train, diabetes_y_train)\n",
    " \n",
    "# Make predictions using the testing set\n",
    "diabetes_y_pred = regr.predict(diabetes_X_test)\n",
    " \n",
    "# The coefficients\n",
    "print('Coefficients: \\n', regr.coef_)\n",
    "# The mean squared error\n",
    "mean_squared_error = metrics.mean_squared_error(diabetes_y_test, diabetes_y_pred)\n",
    "print(\"Mean squared error: %.2f\" % mean_squared_error)\n",
    "print(\"=\"*100)"
   ]
  },
  {
   "cell_type": "code",
   "execution_count": 3,
   "metadata": {},
   "outputs": [
    {
     "name": "stdout",
     "output_type": "stream",
     "text": [
      "Final bias and weights are 152.72548607805496 and [   4.00541107 -234.50432786  520.43456576  325.70486544 -127.12027395\n",
      "  -59.71419862 -196.78255848  110.43791401  482.05091172   79.09324019]\n"
     ]
    }
   ],
   "source": [
    "X = diabetes_X_train\n",
    "y = diabetes_y_train\n",
    "\n",
    "# initialize weights and biases\n",
    "W = np.random.uniform(high=0.1, low=0.01, size=diabetes_X.shape[1])  # ----> same shape as the number of features\n",
    "b = 0.001\n",
    "\n",
    "# learning rate and epoch\n",
    "learning_rate = 0.25\n",
    "epoch = 50000\n",
    "\n",
    "#store costs\n",
    "costs = []\n",
    "\n",
    "num = 1.0/(2*len(diabetes_X_train))\n",
    "\n",
    "# training gradient descent\n",
    "for i in range(epoch):\n",
    "    \n",
    "    # prediction\n",
    "    y_pred = X.dot(W) + b\n",
    "    \n",
    "    # error\n",
    "    error = y_pred - y\n",
    "    \n",
    "    # error metric to minimize\n",
    "    mse = np.mean(np.power(error, 2))\n",
    "    costs.append(mse)\n",
    "    \n",
    "    # gradient calculation\n",
    "    W_gradient = num * error.dot(X)\n",
    "    b_gradient = num * np.sum(error)\n",
    "    \n",
    "    # update weights and bias\n",
    "    W -= learning_rate*W_gradient\n",
    "    b -= learning_rate*b_gradient\n",
    "    \n",
    "print(\"Final bias and weights are {} and {}\".format(b, W))"
   ]
  },
  {
   "cell_type": "code",
   "execution_count": 4,
   "metadata": {},
   "outputs": [
    {
     "name": "stdout",
     "output_type": "stream",
     "text": [
      "2920.3530567356884\n"
     ]
    }
   ],
   "source": [
    "print(costs[-1])"
   ]
  },
  {
   "cell_type": "code",
   "execution_count": 5,
   "metadata": {},
   "outputs": [
    {
     "name": "stdout",
     "output_type": "stream",
     "text": [
      "Mean squared error: 1993.15\n",
      "========================================================================================================================\n"
     ]
    }
   ],
   "source": [
    "X_test = diabetes_X_test\n",
    "y_test = diabetes_y_test\n",
    " \n",
    "y_predict = X_test.dot(W) + b\n",
    "error = y_predict - y_test\n",
    "mean_squared_error = np.mean(np.power(error, 2))\n",
    "print(\"Mean squared error: %.2f\" % mean_squared_error)\n",
    "print(\"=\"*120)"
   ]
  },
  {
   "cell_type": "code",
   "execution_count": 6,
   "metadata": {},
   "outputs": [
    {
     "data": {
      "image/png": "[encoded data removed]",
      "text/plain": [
       "<Figure size 432x288 with 1 Axes>"
      ]
     },
     "metadata": {},
     "output_type": "display_data"
    }
   ],
   "source": [
    "import matplotlib.pyplot as plt\n",
    "%matplotlib inline\n",
    "plt.plot(range(epoch), costs)\n",
    "plt.show()"
   ]
  },
  {
   "cell_type": "code",
   "execution_count": null,
   "metadata": {},
   "outputs": [],
   "source": []
  }
 ],
 "metadata": {
  "kernelspec": {
   "display_name": "Python 3",
   "language": "python",
   "name": "python3"
  },
  "language_info": {
   "codemirror_mode": {
    "name": "ipython",
    "version": 3
   },
   "file_extension": ".py",
   "mimetype": "text/x-python",
   "name": "python",
   "nbconvert_exporter": "python",
   "pygments_lexer": "ipython3",
   "version": "3.6.6"
  }
 },
 "nbformat": 4,
 "nbformat_minor": 2
}
