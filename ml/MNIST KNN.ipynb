{
 "cells": [
  {
   "cell_type": "code",
   "execution_count": 1,
   "metadata": {},
   "outputs": [
    {
     "name": "stdout",
     "output_type": "stream",
     "text": [
      "training data points: 10000\n",
      "validation data points: 2000\n",
      "testing data points: 2000\n"
     ]
    }
   ],
   "source": [
    "import pickle, gzip\n",
    "import numpy as np\n",
    " \n",
    "###############################################################################\n",
    "## load data\n",
    " \n",
    "f = gzip.open('mnist_10000.pkl.gz', 'rb')\n",
    "trainData, trainLabels, valData, valLabels, testData, testLabels = pickle.load(f,encoding='latin1')\n",
    "f.close()\n",
    " \n",
    "print(\"training data points: {}\".format(len(trainLabels)))\n",
    "print(\"validation data points: {}\".format(len(valLabels)))\n",
    "print(\"testing data points: {}\".format(len(testLabels)))"
   ]
  },
  {
   "cell_type": "code",
   "execution_count": 2,
   "metadata": {},
   "outputs": [],
   "source": [
    "# import cv2\n",
    "# image = trainData[0]\n",
    "# image = image.reshape((28, 28))\n",
    "# cv2.imshow(\"Image\", image)\n",
    "# cv2.waitKey(0) # press enter to go to next!"
   ]
  },
  {
   "cell_type": "code",
   "execution_count": 3,
   "metadata": {},
   "outputs": [],
   "source": [
    "# knn from scratch\n",
    "\n",
    "import operator\n",
    "from collections import Counter\n",
    "import math\n",
    "\n",
    "def distance(instance1, instance2):\n",
    "    distance = 0\n",
    "    for x in range(len(instance1)):\n",
    "        distance += pow((instance1[x] - instance2[x]), 2)\n",
    "    return math.sqrt(distance)\n",
    "\n",
    "def knn(k, train, test, trainlabel):\n",
    "    res = []\n",
    "    for i in range(len(test)):\n",
    "        distances = []\n",
    "        for j in range(len(train)):\n",
    "            distances.append((trainlabel[i], distance(train[j], test[i])))\n",
    "        distances.sort(key=operator.itemgetter(1))\n",
    "        neighbors = [distances[x][0] for x in range(k)]\n",
    "        res.append(neighbors)\n",
    "    return res\n",
    "\n",
    "def pred_labels(out):\n",
    "    labels = []\n",
    "    for i in out:\n",
    "        dic = Counter(i)\n",
    "        most_com = dic.most_common(1)[0][0]\n",
    "        labels.append(most_com)\n",
    "    return labels\n",
    "\n",
    "def score(pred, actual):\n",
    "    count = sum([1 for i in range(len(pred)) if pred[i] == actual[i]])\n",
    "    return (count / len(pred)) * 100"
   ]
  },
  {
   "cell_type": "code",
   "execution_count": 4,
   "metadata": {},
   "outputs": [],
   "source": [
    "# scikit-learn approach\n",
    "\n",
    "from sklearn.neighbors import KNeighborsClassifier\n",
    "from sklearn.metrics import accuracy_score, f1_score, classification_report, confusion_matrix\n",
    "\n",
    "def sklearn_knn(X_train, y_train, X_test, y_test, k):\n",
    "    knn = KNeighborsClassifier(n_neighbors=k)\n",
    "    knn.fit(X_train, y_train)\n",
    "    y_pred = knn.predict(X_test)\n",
    "    acc = accuracy_score(y_pred, y_test)\n",
    "    report = classification_report(y_pred, y_test)\n",
    "    matrix = confusion_matrix(y_pred, y_test)\n",
    "    yield acc\n",
    "    yield report\n",
    "    yield matrix"
   ]
  },
  {
   "cell_type": "code",
   "execution_count": 5,
   "metadata": {},
   "outputs": [],
   "source": [
    "accuracy, f1, matrix = sklearn_knn(trainData, trainLabels, valData, valLabels, 3)"
   ]
  },
  {
   "cell_type": "code",
   "execution_count": 6,
   "metadata": {},
   "outputs": [
    {
     "name": "stdout",
     "output_type": "stream",
     "text": [
      "0.953\n"
     ]
    }
   ],
   "source": [
    "print(accuracy)"
   ]
  },
  {
   "cell_type": "code",
   "execution_count": 7,
   "metadata": {},
   "outputs": [
    {
     "name": "stdout",
     "output_type": "stream",
     "text": [
      "             precision    recall  f1-score   support\n",
      "\n",
      "          0       1.00      0.97      0.98       207\n",
      "          1       1.00      0.91      0.95       224\n",
      "          2       0.94      0.98      0.96       180\n",
      "          3       0.94      0.93      0.93       201\n",
      "          4       0.93      0.96      0.94       181\n",
      "          5       0.92      0.97      0.94       181\n",
      "          6       0.99      1.00      0.99       201\n",
      "          7       0.96      0.95      0.95       224\n",
      "          8       0.93      0.98      0.95       205\n",
      "          9       0.93      0.91      0.92       196\n",
      "\n",
      "avg / total       0.95      0.95      0.95      2000\n",
      "\n"
     ]
    }
   ],
   "source": [
    "print(f1)"
   ]
  },
  {
   "cell_type": "code",
   "execution_count": 8,
   "metadata": {},
   "outputs": [
    {
     "name": "stdout",
     "output_type": "stream",
     "text": [
      "[[201   0   0   0   0   0   2   0   1   3]\n",
      " [  0 204   5   0   2   1   1   4   5   2]\n",
      " [  1   0 176   1   0   1   0   1   0   0]\n",
      " [  0   0   2 187   0   6   0   0   4   2]\n",
      " [  0   0   0   0 173   2   0   2   1   3]\n",
      " [  0   0   0   4   0 175   0   0   2   0]\n",
      " [  0   0   0   0   0   1 200   0   0   0]\n",
      " [  0   1   3   1   0   1   0 212   2   4]\n",
      " [  0   0   1   3   0   1   0   0 200   0]\n",
      " [  0   0   0   3  11   2   0   1   1 178]]\n"
     ]
    }
   ],
   "source": [
    "print(matrix)"
   ]
  }
 ],
 "metadata": {
  "kernelspec": {
   "display_name": "Python 3",
   "language": "python",
   "name": "python3"
  },
  "language_info": {
   "codemirror_mode": {
    "name": "ipython",
    "version": 3
   },
   "file_extension": ".py",
   "mimetype": "text/x-python",
   "name": "python",
   "nbconvert_exporter": "python",
   "pygments_lexer": "ipython3",
   "version": "3.6.6"
  }
 },
 "nbformat": 4,
 "nbformat_minor": 2
}
